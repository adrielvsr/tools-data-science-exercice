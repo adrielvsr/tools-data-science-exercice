{
 "cells": [
  {
   "cell_type": "markdown",
   "metadata": {},
   "source": [
    "<center>\n",
    "    <img src=\"https://cf-courses-data.s3.us.cloud-object-storage.appdomain.cloud/IBMDeveloperSkillsNetwork-DS0105EN-SkillsNetwork/labs/Module2/images/SN_web_lightmode.png\" width=\"300\" alt=\"cognitiveclass.ai logo\">\n",
    "</center>\n"
   ]
  },
  {
   "cell_type": "markdown",
   "metadata": {
    "tags": []
   },
   "source": [
    "#### Add your code below following the instructions given in the course\n"
   ]
  },
  {
   "cell_type": "markdown",
   "metadata": {
    "tags": []
   },
   "source": [
    "## Exercise 2\n",
    "# This is the practical exercise to complete the course."
   ]
  },
  {
   "cell_type": "markdown",
   "metadata": {
    "tags": []
   },
   "source": [
    "## Exercise 3 - Introduction\n",
    "We learned in this course about the most used tools for data science, being an interdisciplinary area that uses scientific methods to extract knowledge from data. Data science tools are programs that help scientists collect, clean, analyze and visualize data, tools such as: Model Asset Exchange (MAX);\n",
    "Jupyter notebooks; Anaconda and RStudio environments; Data visualization in R; IBM cloud-based environments; Google Contributor. These tools include programming languages ​​like R and Python, data analysis libraries like Pandas and NumPy, and data visualization platforms like Tableau and Power BI. These tools allow scientists to work with large datasets and perform complex analyzes to uncover hidden patterns and trends in the data."
   ]
  },
  {
   "cell_type": "markdown",
   "metadata": {},
   "source": [
    "## Exercise 4 - Main languages ​​for data science.\n",
    "\n",
    "Python: A high-level programming language widely used in data science due to its ease of use and the availability of data analysis libraries.\n",
    "A: A statistical programming language popular with statisticians and data scientists for its powerful data analysis and visualization tools.\n",
    "SQL: A structured query language used to manage and manipulate data in relational databases.\n",
    "Julia: A high-level programming language designed for numerical and scientific computing, with MATLAB-like syntax.\n",
    "MATLAB: A numerical programming language, widely used in engineering and physical sciences for mathematical modeling and data analysis.\n",
    "\n"
   ]
  },
  {
   "cell_type": "markdown",
   "metadata": {},
   "source": [
    "## Exercise 5 - Leading Data Science Libraries\n",
    "\n",
    "Pandas: A Python library for data manipulation and analysis. NumPy: A Python library for scientific computing with support for multidimensional arrays.\n",
    "SciPy: A Python library for scientific and technical computing. Scikit-learn: A Python library for machine learning. Matplotlib: A Python library for creating visualizations."
   ]
  },
  {
   "cell_type": "markdown",
   "metadata": {},
   "source": [
    "## Exercise 6 - Data Science tools table\n",
    "\n",
    "| Tool | Description |\n",
    "| --- | --- |\n",
    "| Python | High-level programming language for data science. |\n",
    "| R | Statistical programming language for data analysis. |\n",
    "| SQL | Query language for managing data in relational databases. |\n",
    "| Jupyter Notebook | Interactive computing environment for creating documents with code and visualizations. |\n",
    "| Tableau | Data visualization platform for creating interactive dashboards and reports. |\n"
   ]
  },
  {
   "cell_type": "markdown",
   "metadata": {},
   "source": [
    "## Exercise 7 - Examples of arithmetic expression\n",
    "\n",
    "In this exercise I will exemplify some examples of arithmetic expressions. Where, the basic arithmetic operators are addition (+), subtraction (-), multiplication (*) and division (/). Examples: `2 + 3 = 5`, `4 - 1 = 3`, `6 * 2 = 12`, `8/4 = 2`."
   ]
  },
  {
   "cell_type": "markdown",
   "metadata": {},
   "source": [
    "## Exercise 8 - Example for multiplying and adding numbers"
   ]
  },
  {
   "cell_type": "code",
   "execution_count": 2,
   "metadata": {
    "tags": []
   },
   "outputs": [
    {
     "name": "stdout",
     "output_type": "stream",
     "text": [
      "The result of multiplying 2 and 3 is 6.\n",
      "The result of adding 2, 3, and 4 is 9.\n"
     ]
    }
   ],
   "source": [
    "# Define the numbers to multiply and add\n",
    "a = 2\n",
    "b = 3\n",
    "c = 4\n",
    "\n",
    "# Multiply the numbers\n",
    "result1 = a * b\n",
    "\n",
    "# Add the numbers\n",
    "result2 = a + b + c\n",
    "\n",
    "# Print the results\n",
    "print(f\"The result of multiplying {a} and {b} is {result1}.\")\n",
    "print(f\"The result of adding {a}, {b}, and {c} is {result2}.\")"
   ]
  },
  {
   "cell_type": "markdown",
   "metadata": {},
   "source": [
    "## Exercise 9 - Convert minutes to hours"
   ]
  },
  {
   "cell_type": "code",
   "execution_count": 3,
   "metadata": {
    "tags": []
   },
   "outputs": [
    {
     "name": "stdout",
     "output_type": "stream",
     "text": [
      "400 minutes is equal to 6.666666666666667 hours.\n"
     ]
    }
   ],
   "source": [
    "# Define the number of minutes\n",
    "minutes = 400\n",
    "\n",
    "# Convert minutes to hours\n",
    "hours = minutes / 60\n",
    "\n",
    "# Print the result\n",
    "print(f\"{minutes} minutes is equal to {hours} hours.\")"
   ]
  },
  {
   "cell_type": "markdown",
   "metadata": {},
   "source": [
    "## Exercise 10 - List of Objectives\n",
    "\n",
    "## Objectives\n",
    "\n",
    "By completing the exercises from 2 to 9, we aim to achieve the following objectives:\n",
    "\n",
    "1. Create a markdown cell with the title of the notebook.\n",
    "2. Create a markdown cell for an introduction.\n",
    "3. Create a markdown cell to list data science languages.\n",
    "4. Create a markdown cell to list data science libraries.\n",
    "5. Create a markdown cell with a table of data science tools.\n",
    "6. Create a markdown cell introducing examples of arithmetic expressions.\n",
    "7. Create a code cell to multiply and add numbers.\n",
    "8. Create a code cell to convert minutes to hours.\n"
   ]
  },
  {
   "cell_type": "markdown",
   "metadata": {},
   "source": [
    "## Exercise 11 - Author\n",
    "\n",
    "## Author\n",
    "\n",
    "This notebook was created by **Adriel Victor de Sousa Rocha Neves**."
   ]
  },
  {
   "cell_type": "code",
   "execution_count": null,
   "metadata": {},
   "outputs": [],
   "source": []
  }
 ],
 "metadata": {
  "kernelspec": {
   "display_name": "Python",
   "language": "python",
   "name": "conda-env-python-py"
  },
  "language_info": {
   "codemirror_mode": {
    "name": "ipython",
    "version": 3
   },
   "file_extension": ".py",
   "mimetype": "text/x-python",
   "name": "python",
   "nbconvert_exporter": "python",
   "pygments_lexer": "ipython3",
   "version": "3.7.12"
  }
 },
 "nbformat": 4,
 "nbformat_minor": 4
}
